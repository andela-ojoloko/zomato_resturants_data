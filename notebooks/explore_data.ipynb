{
 "cells": [
  {
   "cell_type": "code",
   "execution_count": null,
   "metadata": {},
   "outputs": [],
   "source": [
    "import os\n",
    "import pandas as pd\n",
    "import numpy as np"
   ]
  },
  {
   "cell_type": "code",
   "execution_count": null,
   "metadata": {},
   "outputs": [],
   "source": [
    "zomato_file_path = os.path.join(os.path.pardir, 'data', 'raw', 'zomato.csv.zip')\n",
    "country_code_file_path = os.path.join(os.path.pardir, 'data', 'raw', 'Country-Code.xlsx')"
   ]
  },
  {
   "cell_type": "markdown",
   "metadata": {},
   "source": [
    "### 1. load the Dataset into Pandas Dataframe"
   ]
  },
  {
   "cell_type": "code",
   "execution_count": null,
   "metadata": {},
   "outputs": [],
   "source": [
    "zomato_df = pd.read_csv(zomato_file_path, encoding=\"ISO-8859-1\")\n",
    "country_df = pd.read_excel(country_code_file_path)"
   ]
  },
  {
   "cell_type": "code",
   "execution_count": null,
   "metadata": {},
   "outputs": [],
   "source": [
    "zomato_df.describe()"
   ]
  },
  {
   "cell_type": "code",
   "execution_count": null,
   "metadata": {},
   "outputs": [],
   "source": [
    "zomato_df.columns"
   ]
  },
  {
   "cell_type": "code",
   "execution_count": null,
   "metadata": {},
   "outputs": [],
   "source": [
    "country_df.describe()"
   ]
  },
  {
   "cell_type": "code",
   "execution_count": null,
   "metadata": {},
   "outputs": [],
   "source": [
    "zomato_df.head()"
   ]
  },
  {
   "cell_type": "code",
   "execution_count": null,
   "metadata": {},
   "outputs": [],
   "source": [
    "country_df.head()"
   ]
  },
  {
   "cell_type": "markdown",
   "metadata": {},
   "source": [
    "### 2.  Determine which country has the best Resturants"
   ]
  },
  {
   "cell_type": "code",
   "execution_count": null,
   "metadata": {},
   "outputs": [],
   "source": [
    "# add country column to zomato_df\n",
    "def add_country(country_code):\n",
    "    row = country_df[country_df[\"Country Code\"] == country_code].iloc[0]\n",
    "    return row[\"Country\"]\n",
    "\n",
    "zomato_df[\"Country\"] = zomato_df[\"Country Code\"].map(add_country)"
   ]
  },
  {
   "cell_type": "markdown",
   "metadata": {},
   "source": [
    "#### - The country best resturants by mean Average rating"
   ]
  },
  {
   "cell_type": "code",
   "execution_count": null,
   "metadata": {},
   "outputs": [],
   "source": [
    "# find the country best resturants by mean Average rating\n",
    "# group zomato_df by country and find mean of the 'Aggregate rating' \n",
    "country_group_df = zomato_df.groupby('Country')['Aggregate rating'].mean()\n",
    "print(country_group_df)\n",
    "# sort the values and reset index to add country to columns\n",
    "country_group_df = country_group_df.sort_values(ascending=False).reset_index()\n",
    "print(country_group_df)\n",
    "\n",
    "print('The country with the best Resturant is {}'.format(country_group_df.iloc[0][\"Country\"]))"
   ]
  },
  {
   "cell_type": "markdown",
   "metadata": {},
   "source": [
    "#### - The country best resturants by cummulative Average rating "
   ]
  },
  {
   "cell_type": "code",
   "execution_count": null,
   "metadata": {},
   "outputs": [],
   "source": [
    "# find the country with the best resturants by cummulative Average rating \n",
    "# this result can be skewed since countries do not have the same number of resturants\n",
    "# group by country and find sum of 'Aggregate rating' \n",
    "country_group_df = zomato_df.groupby('Country')['Aggregate rating'].sum()\n",
    "print(country_group_df)\n",
    "# sort the values and reset index to add country to columns\n",
    "country_group_df = country_group_df.sort_values(ascending=False).reset_index()\n",
    "print(country_group_df)\n",
    "\n",
    "print('The country with the best Resturant is {}'.format(country_group_df.iloc[0][\"Country\"]))"
   ]
  },
  {
   "cell_type": "markdown",
   "metadata": {},
   "source": [
    "### 3. Determine the Top 10 most expensive restaurants and their cuisines."
   ]
  },
  {
   "cell_type": "code",
   "execution_count": null,
   "metadata": {},
   "outputs": [],
   "source": [
    "# 3 What are the top 10 most expensive restaurants and their cuisines \n",
    "zomato_df.Currency.unique()"
   ]
  },
  {
   "cell_type": "code",
   "execution_count": null,
   "metadata": {},
   "outputs": [],
   "source": [
    "# currency_converter package did not have all the currencies so the rates are hard coded\n",
    "# this are the latest rates as of 8 august 2018\n",
    "\n",
    "rate = {\n",
    "    'Botswana Pula(P)': 0.097 ,\n",
    "    'Brazilian Real(R$)': 0.27,\n",
    "    'Dollar($)': 1,\n",
    "    'Emirati Diram(AED)': 0.27,\n",
    "    'Indian Rupees(Rs.)': 0.015,\n",
    "    'Indonesian Rupiah(IDR)': 0.000069,\n",
    "    'NewZealand($)': 0.67,\n",
    "    'Pounds(\\x8c£)': 1.29,\n",
    "    'Qatari Rial(QR)': 0.27,\n",
    "    'Rand(R)': 0.074,\n",
    "    'Sri Lankan Rupee(LKR)': 0.0063,\n",
    "    'Turkish Lira(TL)': 0.19\n",
    "}\n",
    "\n",
    "def add_average_cost_for_2_in_dollars(row):\n",
    "    return (rate[row['Currency']] * row['Average Cost for two'])\n",
    "\n",
    "# add average_cost_for_2_$ column to zomato_df\n",
    "zomato_df[\"average_cost_for_2_$\"] = zomato_df.apply(add_average_cost_for_2_in_dollars, axis=1)\n",
    "    "
   ]
  },
  {
   "cell_type": "code",
   "execution_count": null,
   "metadata": {},
   "outputs": [],
   "source": [
    "# sort zomato_df by average_cost_for_2_$ in descending order and get first ten\n",
    "# these are the most expensive resturants and their cuisines\n",
    "zomato_df.sort_values(\"average_cost_for_2_$\", ascending=False).head(10)[['Restaurant Name','Cuisines', 'Country',\"average_cost_for_2_$\"]]"
   ]
  },
  {
   "cell_type": "markdown",
   "metadata": {},
   "source": [
    "### 4. Some visualizations"
   ]
  },
  {
   "cell_type": "code",
   "execution_count": null,
   "metadata": {},
   "outputs": [],
   "source": [
    "# some visualizations \n",
    "zomato_df['Price range'].plot.hist()"
   ]
  },
  {
   "cell_type": "code",
   "execution_count": null,
   "metadata": {},
   "outputs": [],
   "source": [
    "# some visualizations \n",
    "zomato_df.boxplot('Aggregate rating', 'Price range')"
   ]
  },
  {
   "cell_type": "code",
   "execution_count": null,
   "metadata": {},
   "outputs": [],
   "source": [
    "zomato_df['Country'].value_counts().plot.pie(figsize=(10, 10))"
   ]
  },
  {
   "cell_type": "code",
   "execution_count": null,
   "metadata": {},
   "outputs": [],
   "source": [
    "# visualizations\n",
    "zomato_df.plot.scatter(y='average_cost_for_2_$', x='Aggregate rating')"
   ]
  },
  {
   "cell_type": "code",
   "execution_count": null,
   "metadata": {},
   "outputs": [],
   "source": []
  }
 ],
 "metadata": {
  "kernelspec": {
   "display_name": "Python 3",
   "language": "python",
   "name": "python3"
  },
  "language_info": {
   "codemirror_mode": {
    "name": "ipython",
    "version": 3
   },
   "file_extension": ".py",
   "mimetype": "text/x-python",
   "name": "python",
   "nbconvert_exporter": "python",
   "pygments_lexer": "ipython3",
   "version": "3.6.2"
  }
 },
 "nbformat": 4,
 "nbformat_minor": 2
}
